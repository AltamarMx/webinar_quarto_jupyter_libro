{
 "cells": [
  {
   "cell_type": "code",
   "execution_count": null,
   "id": "0ec99226",
   "metadata": {},
   "outputs": [],
   "source": [
    "# pip install git+https://github.com/AltamarMx/iertools.git"
   ]
  },
  {
   "cell_type": "code",
   "execution_count": 1,
   "id": "ccb1a463",
   "metadata": {},
   "outputs": [],
   "source": [
    "import pandas as pd\n",
    "from iertools.read import read_epw\n",
    "import matplotlib.pyplot as plt"
   ]
  },
  {
   "cell_type": "code",
   "execution_count": null,
   "id": "488a9bba",
   "metadata": {},
   "outputs": [],
   "source": [
    "f = \"../\""
   ]
  }
 ],
 "metadata": {
  "kernelspec": {
   "display_name": "Python 3 (ipykernel)",
   "language": "python",
   "name": "python3"
  },
  "language_info": {
   "codemirror_mode": {
    "name": "ipython",
    "version": 3
   },
   "file_extension": ".py",
   "mimetype": "text/x-python",
   "name": "python",
   "nbconvert_exporter": "python",
   "pygments_lexer": "ipython3",
   "version": "3.9.6"
  }
 },
 "nbformat": 4,
 "nbformat_minor": 5
}
